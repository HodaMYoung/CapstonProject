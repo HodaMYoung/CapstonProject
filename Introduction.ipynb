{
    "nbformat_minor": 1, 
    "cells": [
        {
            "source": "# Introduction\n\nNew York is the second largest city in North America after Mexico City and the most populated city in the USA. Toronto ranks the first largest city in Canada. Both cities are considered the financial capitals of their respective countries. Toronto is often called New York North; therefore, the objective of this report is to compare these two cities through their neighbourhoods. Two major categories for their comparison will be discussed in this report. First, both cities\u2019 diversity will be tested through availability of different food options. Second, their green space will be examined through their parks and playgrounds.", 
            "cell_type": "markdown", 
            "metadata": {
                "collapsed": true
            }
        }, 
        {
            "source": "# Data Description\nThe raw datasets used for this project were gathered from different sources. The initial unprocessed New York data was downloaded from a given online source, i.e. <https://cocl.us/new_york_dataset> in json data format. After downloading, pre-processing was performed on the given data to transform it to a simplified, useful Pandas dataframe for our analysis with four main columns, i.e. Borough, Neighbourhood, Latitude and Longitude.\nContrary to New York, no json dataset was available for Toronto. However, a similar dataset for Toronto by scraping Wikipedia web and another online link for geographical coordination of different neighbourhoods in Toronto was created. After scrapping Wikipedia link (<https://en.wikipedia.org/wiki/List_of_postal_codes_of_Canada:_M>),a useful dataset consisting of three columns, i.e. Borough, Neighbourhood, Postal Code. Pre-processing was required to manage missing values and merging the two dataset. The following pre-processing stages were performed on the first dataset from Wikipedia:\n\n* dropping the rows with missing values for borough,\n* assigning the same values for neighbourhood with misssing data with their corresponding borough,\n* combining rows with similar postal codes in one borough but different neighbourhoods into a single row with different neighbourhoods separated by comma.\n* reordering the rows alphabetically based on their postal code in order to match with their corresponding geographical coordination from second dataset. And final stage of pre-processing was merging the two datasets through their common denominator, i.e. boroughs.\n\nFinally, Foursquare was used to obtain information about venues including restaurants and parks in downtown Toronto and New York. Foursquare as a popular location data platform allows its subscriber to explore venues around a geographical location.", 
            "cell_type": "markdown", 
            "metadata": {}
        }, 
        {
            "source": "", 
            "cell_type": "code", 
            "execution_count": null, 
            "outputs": [], 
            "metadata": {}
        }
    ], 
    "nbformat": 4, 
    "metadata": {
        "kernelspec": {
            "display_name": "Python 3.6", 
            "name": "python3", 
            "language": "python"
        }, 
        "language_info": {
            "mimetype": "text/x-python", 
            "nbconvert_exporter": "python", 
            "version": "3.6.8", 
            "name": "python", 
            "pygments_lexer": "ipython3", 
            "file_extension": ".py", 
            "codemirror_mode": {
                "version": 3, 
                "name": "ipython"
            }
        }
    }
}